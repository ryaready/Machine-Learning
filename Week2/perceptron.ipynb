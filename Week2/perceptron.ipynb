{
 "cells": [
  {
   "cell_type": "code",
   "execution_count": 2,
   "metadata": {},
   "outputs": [],
   "source": [
    "import numpy as np"
   ]
  },
  {
   "cell_type": "code",
   "execution_count": 22,
   "metadata": {},
   "outputs": [],
   "source": [
    "feature = np.array([[1, 2], [-1 , 2], [0, -1]])\n",
    "target = np.array([1, -1, -1])"
   ]
  },
  {
   "cell_type": "code",
   "execution_count": 25,
   "metadata": {},
   "outputs": [
    {
     "name": "stdout",
     "output_type": "stream",
     "text": [
      "[2.  1.2]\n",
      "[ 3.  -0.8]\n",
      "[3.  0.2]\n",
      "final theta: [3.  0.2]\n"
     ]
    }
   ],
   "source": [
    "theta = np.array([1,-0.8])\n",
    "while True: \n",
    "    m = 0 \n",
    "    for i in range(0,3): \n",
    "        if target[i]*(np.dot(theta, feature[i])) <= 0: \n",
    "            theta = theta + (feature[i] * target[i])\n",
    "            print(theta)\n",
    "            m += 1\n",
    "    if m == 0: \n",
    "        break\n",
    "\n",
    "print('final theta:', theta)\n",
    "    \n"
   ]
  },
  {
   "cell_type": "markdown",
   "metadata": {},
   "source": [
    "This algorithm is to find the weights for the linear classifier \n",
    "after you find the weights, can put the vector theta, which is the weights into the linear classifier equation"
   ]
  },
  {
   "cell_type": "markdown",
   "metadata": {},
   "source": [
    "Linear classifier with offset"
   ]
  }
 ],
 "metadata": {
  "kernelspec": {
   "display_name": "Python 3",
   "language": "python",
   "name": "python3"
  },
  "language_info": {
   "codemirror_mode": {
    "name": "ipython",
    "version": 3
   },
   "file_extension": ".py",
   "mimetype": "text/x-python",
   "name": "python",
   "nbconvert_exporter": "python",
   "pygments_lexer": "ipython3",
   "version": "3.11.5"
  }
 },
 "nbformat": 4,
 "nbformat_minor": 2
}
